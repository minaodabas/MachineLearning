{
  "nbformat": 4,
  "nbformat_minor": 0,
  "metadata": {
    "colab": {
      "name": "LSTM.ipynb",
      "provenance": [],
      "collapsed_sections": []
    },
    "kernelspec": {
      "name": "python3",
      "display_name": "Python 3"
    },
    "language_info": {
      "name": "python"
    },
    "accelerator": "GPU"
  },
  "cells": [
    {
      "cell_type": "code",
      "metadata": {
        "id": "9ECrNIaFpe0s"
      },
      "source": [
        "import numpy as np\n",
        "import pandas as pd\n",
        "import matplotlib\n",
        "from sklearn.metrics import confusion_matrix, ConfusionMatrixDisplay, classification_report\n",
        "from sklearn.model_selection import train_test_split\n",
        "\n",
        "from tensorflow import keras\n",
        "\n",
        "\n",
        "matplotlib.rcParams[\"figure.figsize\"] = (16, 8)\n",
        "plt = matplotlib.pyplot"
      ],
      "execution_count": null,
      "outputs": []
    },
    {
      "cell_type": "code",
      "metadata": {
        "id": "b1EaxKmGo4Hn"
      },
      "source": [
        "df = pd.read_csv(\"train.csv\")\n",
        "df.dropna(inplace=True)"
      ],
      "execution_count": null,
      "outputs": []
    },
    {
      "cell_type": "code",
      "metadata": {
        "id": "2ZtUR703qDT0",
        "colab": {
          "base_uri": "https://localhost:8080/"
        },
        "outputId": "33c7a0ac-0a7d-43b8-d631-400ae8fd2ef3"
      },
      "source": [
        "(imdb_X_train, imdb_y_train), (imdb_X_test, imdb_y_test) = keras.datasets.imdb.load_data(num_words=20000)\n",
        "imdb_index = keras.datasets.imdb.get_word_index()\n",
        "inverted_imdb_index = dict((i, word) for (word, i) in imdb_index.items())\n",
        "\n",
        "(news_X_train, news_y_train), (news_X_test, news_y_test) = keras.datasets.reuters.load_data(num_words=5000)\n",
        "news_index = keras.datasets.reuters.get_word_index()\n",
        "inverted_news_index = dict((i, word) for (word, i) in news_index.items())\n",
        "\n",
        "tw_X_train, tw_X_test, tw_y_train, tw_y_test = train_test_split(df.iloc[:,1].values, df.iloc[:,-1].apply(lambda x: {\"negative\":0, \"neutral\":1, \"positive\":2}[x]).values, train_size=0.7)"
      ],
      "execution_count": null,
      "outputs": [
        {
          "output_type": "stream",
          "text": [
            "<string>:6: VisibleDeprecationWarning: Creating an ndarray from ragged nested sequences (which is a list-or-tuple of lists-or-tuples-or ndarrays with different lengths or shapes) is deprecated. If you meant to do this, you must specify 'dtype=object' when creating the ndarray\n",
            "/usr/local/lib/python3.7/dist-packages/tensorflow/python/keras/datasets/imdb.py:155: VisibleDeprecationWarning: Creating an ndarray from ragged nested sequences (which is a list-or-tuple of lists-or-tuples-or ndarrays with different lengths or shapes) is deprecated. If you meant to do this, you must specify 'dtype=object' when creating the ndarray\n",
            "  x_train, y_train = np.array(xs[:idx]), np.array(labels[:idx])\n",
            "/usr/local/lib/python3.7/dist-packages/tensorflow/python/keras/datasets/imdb.py:156: VisibleDeprecationWarning: Creating an ndarray from ragged nested sequences (which is a list-or-tuple of lists-or-tuples-or ndarrays with different lengths or shapes) is deprecated. If you meant to do this, you must specify 'dtype=object' when creating the ndarray\n",
            "  x_test, y_test = np.array(xs[idx:]), np.array(labels[idx:])\n",
            "/usr/local/lib/python3.7/dist-packages/tensorflow/python/keras/datasets/reuters.py:143: VisibleDeprecationWarning: Creating an ndarray from ragged nested sequences (which is a list-or-tuple of lists-or-tuples-or ndarrays with different lengths or shapes) is deprecated. If you meant to do this, you must specify 'dtype=object' when creating the ndarray\n",
            "  x_train, y_train = np.array(xs[:idx]), np.array(labels[:idx])\n",
            "/usr/local/lib/python3.7/dist-packages/tensorflow/python/keras/datasets/reuters.py:144: VisibleDeprecationWarning: Creating an ndarray from ragged nested sequences (which is a list-or-tuple of lists-or-tuples-or ndarrays with different lengths or shapes) is deprecated. If you meant to do this, you must specify 'dtype=object' when creating the ndarray\n",
            "  x_test, y_test = np.array(xs[idx:]), np.array(labels[idx:])\n"
          ],
          "name": "stderr"
        }
      ]
    },
    {
      "cell_type": "code",
      "metadata": {
        "id": "bSaCaGa3qi9G"
      },
      "source": [
        "tokenizer = keras.preprocessing.text.Tokenizer(\n",
        "    num_words=None,\n",
        "    filters='!\"#$%&()*+,-./:;<=>?@[\\\\]^_`{|}~\\t\\n',\n",
        "    lower=True, split=' ', char_level=False, oov_token=None,\n",
        "    document_count=0\n",
        ")\n",
        "\n",
        "tokenizer.fit_on_texts(tw_X_train)\n",
        "tw_X_train = tokenizer.texts_to_sequences(tw_X_train)\n",
        "tw_X_test = tokenizer.texts_to_sequences(tw_X_test)"
      ],
      "execution_count": null,
      "outputs": []
    },
    {
      "cell_type": "code",
      "metadata": {
        "colab": {
          "base_uri": "https://localhost:8080/",
          "height": 154
        },
        "id": "z4uCxjJEllxi",
        "outputId": "6a603ff3-3b65-41e2-edcf-1c92ada5b70e"
      },
      "source": [
        "\" \".join(inverted_imdb_index[i] for i in imdb_X_train[0])"
      ],
      "execution_count": null,
      "outputs": [
        {
          "output_type": "execute_result",
          "data": {
            "application/vnd.google.colaboratory.intrinsic+json": {
              "type": "string"
            },
            "text/plain": [
              "\"the as you with out themselves powerful lets loves their becomes reaching had journalist of lot from anyone to have after out atmosphere never more room and it so heart shows to years of every never going and help moments or of every chest visual movie except her was several of enough more with is now current film as you of mine potentially unfortunately of you than him that with out themselves her get for was camp of you movie sometimes movie that with scary but pratfalls to story wonderful that in seeing in character to of 70s musicians with heart had shadows they of here that with her serious to have does when from why what have critics they is you that isn't one will very to as itself with other tricky in of seen over landed for anyone of and br show's to whether from than out themselves history he name half some br of 'n odd was two most of mean for 1 any an boat she he should is thought frog but of script you not while history he heart to real at barrel but when from one bit then have two of script their with her nobody most that with wasn't to with armed acting watch an for with heartfelt film want an\""
            ]
          },
          "metadata": {
            "tags": []
          },
          "execution_count": 29
        }
      ]
    },
    {
      "cell_type": "code",
      "metadata": {
        "colab": {
          "base_uri": "https://localhost:8080/",
          "height": 69
        },
        "id": "Ad1X4WM6mGH6",
        "outputId": "6dcda5ae-bd89-44d5-b50f-c7dea28551d6"
      },
      "source": [
        "\" \".join(inverted_news_index[i] for i in news_X_train[1])"
      ],
      "execution_count": null,
      "outputs": [
        {
          "output_type": "execute_result",
          "data": {
            "application/vnd.google.colaboratory.intrinsic+json": {
              "type": "string"
            },
            "text/plain": [
              "'the termination payment airport takes 6 of of 3 6 602 begin up said fully bank expects commodity total is giant a of this takes of series termination payment airport mln a for capital 1 pre 50 american east said in council takes of of france a but u any 4 s 1st losses pct dlrs'"
            ]
          },
          "metadata": {
            "tags": []
          },
          "execution_count": 30
        }
      ]
    },
    {
      "cell_type": "code",
      "metadata": {
        "colab": {
          "base_uri": "https://localhost:8080/"
        },
        "id": "IYSGjDFhsshn",
        "outputId": "953707bc-0b8f-4a0b-c49c-5a14bccc8bbe"
      },
      "source": [
        "np.unique(imdb_y_test), np.unique(news_y_test), np.unique(tw_y_test), "
      ],
      "execution_count": null,
      "outputs": [
        {
          "output_type": "execute_result",
          "data": {
            "text/plain": [
              "(array([0, 1]),\n",
              " array([ 0,  1,  2,  3,  4,  5,  6,  7,  8,  9, 10, 11, 12, 13, 14, 15, 16,\n",
              "        17, 18, 19, 20, 21, 22, 23, 24, 25, 26, 27, 28, 29, 30, 31, 32, 33,\n",
              "        34, 35, 36, 37, 38, 39, 40, 41, 42, 43, 44, 45]),\n",
              " array([0, 1, 2]))"
            ]
          },
          "metadata": {
            "tags": []
          },
          "execution_count": 31
        }
      ]
    },
    {
      "cell_type": "code",
      "metadata": {
        "id": "yFJ4KfTItdAC"
      },
      "source": [
        "imdb_X_train = keras.preprocessing.sequence.pad_sequences(imdb_X_train, maxlen=200)\n",
        "imdb_X_test = keras.preprocessing.sequence.pad_sequences(imdb_X_test, maxlen=200)"
      ],
      "execution_count": null,
      "outputs": []
    },
    {
      "cell_type": "code",
      "metadata": {
        "id": "ZwfP726QmP7Z"
      },
      "source": [
        "model = keras.models.Sequential([\n",
        "    keras.layers.InputLayer(input_shape=(None,)),\n",
        "    keras.layers.Embedding(20000, 128),\n",
        "    keras.layers.LSTM(64),\n",
        "    keras.layers.Dense(1, activation=\"sigmoid\")\n",
        "])\n",
        "\n",
        "model.compile(loss=\"binary_crossentropy\", optimizer=\"adam\", metrics=[\"accuracy\"])"
      ],
      "execution_count": null,
      "outputs": []
    },
    {
      "cell_type": "code",
      "metadata": {
        "colab": {
          "base_uri": "https://localhost:8080/"
        },
        "id": "XF19m9b7s9Yb",
        "outputId": "4d6d5998-24ac-4071-de44-53ef91af0333"
      },
      "source": [
        "model.fit(imdb_X_train, imdb_y_train, epochs=3)"
      ],
      "execution_count": null,
      "outputs": [
        {
          "output_type": "stream",
          "text": [
            "Epoch 1/3\n",
            "782/782 [==============================] - 34s 40ms/step - loss: 0.4254 - accuracy: 0.8032\n",
            "Epoch 2/3\n",
            "782/782 [==============================] - 32s 40ms/step - loss: 0.2205 - accuracy: 0.9162\n",
            "Epoch 3/3\n",
            "782/782 [==============================] - 31s 40ms/step - loss: 0.1465 - accuracy: 0.9470\n"
          ],
          "name": "stdout"
        },
        {
          "output_type": "execute_result",
          "data": {
            "text/plain": [
              "<tensorflow.python.keras.callbacks.History at 0x7fbfa0ec6cd0>"
            ]
          },
          "metadata": {
            "tags": []
          },
          "execution_count": 34
        }
      ]
    },
    {
      "cell_type": "code",
      "metadata": {
        "colab": {
          "base_uri": "https://localhost:8080/",
          "height": 667
        },
        "id": "SUyZ4sL1uXLr",
        "outputId": "77e6f877-9c58-4926-d990-73e2ac17663b"
      },
      "source": [
        "imdb_preds = model.predict(imdb_X_test).round()\n",
        "cm = confusion_matrix(imdb_y_test, imdb_preds)\n",
        "print(classification_report(imdb_y_test, imdb_preds))\n",
        "ConfusionMatrixDisplay(cm, display_labels=[0,1]).plot()"
      ],
      "execution_count": null,
      "outputs": [
        {
          "output_type": "stream",
          "text": [
            "              precision    recall  f1-score   support\n",
            "\n",
            "           0       0.83      0.89      0.86     12500\n",
            "           1       0.88      0.81      0.85     12500\n",
            "\n",
            "    accuracy                           0.85     25000\n",
            "   macro avg       0.85      0.85      0.85     25000\n",
            "weighted avg       0.85      0.85      0.85     25000\n",
            "\n"
          ],
          "name": "stdout"
        },
        {
          "output_type": "execute_result",
          "data": {
            "text/plain": [
              "<sklearn.metrics._plot.confusion_matrix.ConfusionMatrixDisplay at 0x7fbf316087d0>"
            ]
          },
          "metadata": {
            "tags": []
          },
          "execution_count": 35
        },
        {
          "output_type": "display_data",
          "data": {
            "image/png": "[encoded data removed]",
            "text/plain": [
              "<Figure size 1152x576 with 2 Axes>"
            ]
          },
          "metadata": {
            "tags": [],
            "needs_background": "light"
          }
        }
      ]
    },
    {
      "cell_type": "code",
      "metadata": {
        "id": "eAX14UzrwKdr"
      },
      "source": [
        "news_X_train = keras.preprocessing.sequence.pad_sequences(news_X_train, maxlen=200)\n",
        "news_X_test = keras.preprocessing.sequence.pad_sequences(news_X_test, maxlen=200)\n",
        "news_y_train = keras.utils.to_categorical(news_y_train)"
      ],
      "execution_count": null,
      "outputs": []
    },
    {
      "cell_type": "code",
      "metadata": {
        "colab": {
          "base_uri": "https://localhost:8080/"
        },
        "id": "3seezmvawNK5",
        "outputId": "5664a9d8-527e-41db-f725-f17eda8e691a"
      },
      "source": [
        "news_y_train.shape"
      ],
      "execution_count": null,
      "outputs": [
        {
          "output_type": "execute_result",
          "data": {
            "text/plain": [
              "(8982, 46)"
            ]
          },
          "metadata": {
            "tags": []
          },
          "execution_count": 37
        }
      ]
    },
    {
      "cell_type": "code",
      "metadata": {
        "colab": {
          "base_uri": "https://localhost:8080/"
        },
        "id": "juCB06GyuztG",
        "outputId": "2ef851ad-c73f-4f02-9254-fea83ca1c053"
      },
      "source": [
        "model = keras.models.Sequential([\n",
        "    keras.layers.InputLayer(input_shape=(None,)),\n",
        "    keras.layers.Embedding(5000, 128),\n",
        "    keras.layers.LSTM(64),\n",
        "    keras.layers.Dense(46, activation=\"softmax\")\n",
        "])\n",
        "\n",
        "model.compile(loss=\"categorical_crossentropy\", optimizer=\"adam\", metrics=[\"accuracy\"])\n",
        "\n",
        "model.fit(news_X_train, news_y_train, epochs=15)"
      ],
      "execution_count": null,
      "outputs": [
        {
          "output_type": "stream",
          "text": [
            "Epoch 1/15\n",
            "281/281 [==============================] - 8s 21ms/step - loss: 2.2180 - accuracy: 0.4530\n",
            "Epoch 2/15\n",
            "281/281 [==============================] - 6s 22ms/step - loss: 1.7366 - accuracy: 0.5682\n",
            "Epoch 3/15\n",
            "281/281 [==============================] - 6s 22ms/step - loss: 1.5242 - accuracy: 0.6155\n",
            "Epoch 4/15\n",
            "281/281 [==============================] - 6s 21ms/step - loss: 1.4104 - accuracy: 0.6487\n",
            "Epoch 5/15\n",
            "281/281 [==============================] - 6s 21ms/step - loss: 1.3724 - accuracy: 0.6514\n",
            "Epoch 6/15\n",
            "281/281 [==============================] - 6s 22ms/step - loss: 1.3041 - accuracy: 0.6680\n",
            "Epoch 7/15\n",
            "281/281 [==============================] - 6s 21ms/step - loss: 1.1066 - accuracy: 0.7114\n",
            "Epoch 8/15\n",
            "281/281 [==============================] - 6s 22ms/step - loss: 1.0457 - accuracy: 0.7253\n",
            "Epoch 9/15\n",
            "281/281 [==============================] - 6s 22ms/step - loss: 0.9612 - accuracy: 0.7528\n",
            "Epoch 10/15\n",
            "281/281 [==============================] - 6s 22ms/step - loss: 0.8794 - accuracy: 0.7752\n",
            "Epoch 11/15\n",
            "281/281 [==============================] - 6s 22ms/step - loss: 0.7675 - accuracy: 0.8073\n",
            "Epoch 12/15\n",
            "281/281 [==============================] - 6s 22ms/step - loss: 0.6663 - accuracy: 0.8349\n",
            "Epoch 13/15\n",
            "281/281 [==============================] - 6s 21ms/step - loss: 0.5928 - accuracy: 0.8536\n",
            "Epoch 14/15\n",
            "281/281 [==============================] - 6s 21ms/step - loss: 0.5541 - accuracy: 0.8650\n",
            "Epoch 15/15\n",
            "281/281 [==============================] - 6s 22ms/step - loss: 0.4810 - accuracy: 0.8834\n"
          ],
          "name": "stdout"
        },
        {
          "output_type": "execute_result",
          "data": {
            "text/plain": [
              "<tensorflow.python.keras.callbacks.History at 0x7fbfa150eed0>"
            ]
          },
          "metadata": {
            "tags": []
          },
          "execution_count": 38
        }
      ]
    },
    {
      "cell_type": "code",
      "metadata": {
        "colab": {
          "base_uri": "https://localhost:8080/"
        },
        "id": "mlHA2AnbwVmt",
        "outputId": "3c208809-470c-4bdc-8056-3007713df0c4"
      },
      "source": [
        "news_preds = model.predict(news_X_test).argmax(axis=1)\n",
        "print(classification_report(news_y_test, news_preds))"
      ],
      "execution_count": null,
      "outputs": [
        {
          "output_type": "stream",
          "text": [
            "              precision    recall  f1-score   support\n",
            "\n",
            "           0       0.31      0.33      0.32        12\n",
            "           1       0.61      0.65      0.63       105\n",
            "           2       0.37      0.50      0.43        20\n",
            "           3       0.91      0.91      0.91       813\n",
            "           4       0.82      0.72      0.77       474\n",
            "           5       0.00      0.00      0.00         5\n",
            "           6       0.43      0.43      0.43        14\n",
            "           7       0.00      0.00      0.00         3\n",
            "           8       0.45      0.53      0.49        38\n",
            "           9       0.43      0.40      0.42        25\n",
            "          10       0.49      0.57      0.52        30\n",
            "          11       0.47      0.54      0.50        83\n",
            "          12       0.33      0.15      0.21        13\n",
            "          13       0.23      0.54      0.32        37\n",
            "          14       0.00      0.00      0.00         2\n",
            "          15       0.00      0.00      0.00         9\n",
            "          16       0.37      0.53      0.44        99\n",
            "          17       0.00      0.00      0.00        12\n",
            "          18       0.37      0.50      0.43        20\n",
            "          19       0.51      0.56      0.53       133\n",
            "          20       0.35      0.36      0.35        70\n",
            "          21       0.23      0.26      0.24        27\n",
            "          22       0.00      0.00      0.00         7\n",
            "          23       0.22      0.33      0.27        12\n",
            "          24       0.38      0.16      0.22        19\n",
            "          25       0.59      0.52      0.55        31\n",
            "          26       0.50      0.12      0.20         8\n",
            "          27       0.00      0.00      0.00         4\n",
            "          28       0.07      0.10      0.08        10\n",
            "          29       0.00      0.00      0.00         4\n",
            "          30       0.17      0.17      0.17        12\n",
            "          31       0.00      0.00      0.00        13\n",
            "          32       0.09      0.10      0.10        10\n",
            "          33       1.00      0.20      0.33         5\n",
            "          34       0.08      0.14      0.11         7\n",
            "          35       0.00      0.00      0.00         6\n",
            "          36       0.18      0.18      0.18        11\n",
            "          37       0.00      0.00      0.00         2\n",
            "          38       0.00      0.00      0.00         3\n",
            "          39       0.00      0.00      0.00         5\n",
            "          40       0.00      0.00      0.00        10\n",
            "          41       0.00      0.00      0.00         8\n",
            "          42       0.00      0.00      0.00         3\n",
            "          43       0.00      0.00      0.00         6\n",
            "          44       1.00      0.80      0.89         5\n",
            "          45       0.50      1.00      0.67         1\n",
            "\n",
            "    accuracy                           0.66      2246\n",
            "   macro avg       0.27      0.27      0.25      2246\n",
            "weighted avg       0.67      0.66      0.66      2246\n",
            "\n"
          ],
          "name": "stdout"
        },
        {
          "output_type": "stream",
          "text": [
            "/usr/local/lib/python3.7/dist-packages/sklearn/metrics/_classification.py:1272: UndefinedMetricWarning: Precision and F-score are ill-defined and being set to 0.0 in labels with no predicted samples. Use `zero_division` parameter to control this behavior.\n",
            "  _warn_prf(average, modifier, msg_start, len(result))\n"
          ],
          "name": "stderr"
        }
      ]
    },
    {
      "cell_type": "code",
      "metadata": {
        "id": "fXUW6Iux48R3"
      },
      "source": [
        "tw_X_train = keras.preprocessing.sequence.pad_sequences(tw_X_train, maxlen=200)\n",
        "tw_X_test = keras.preprocessing.sequence.pad_sequences(tw_X_test, maxlen=200)"
      ],
      "execution_count": null,
      "outputs": []
    },
    {
      "cell_type": "code",
      "metadata": {
        "id": "G1C2AmKc5B8t"
      },
      "source": [
        "tw_y_train = keras.utils.to_categorical(tw_y_train)"
      ],
      "execution_count": null,
      "outputs": []
    },
    {
      "cell_type": "code",
      "metadata": {
        "colab": {
          "base_uri": "https://localhost:8080/"
        },
        "id": "9UwnJNco5GsO",
        "outputId": "24de1f31-f8af-4551-b387-b14b3ba3dea6"
      },
      "source": [
        "model = keras.models.Sequential([\n",
        "    keras.layers.InputLayer(input_shape=(None,)),\n",
        "    keras.layers.Embedding(23000, 128),\n",
        "    keras.layers.LSTM(64),\n",
        "    keras.layers.Dense(3, activation=\"softmax\")\n",
        "])\n",
        "\n",
        "model.compile(loss=\"categorical_crossentropy\", optimizer=\"adam\", metrics=[\"accuracy\"])\n",
        "\n",
        "model.fit(tw_X_train, tw_y_train, epochs=5)"
      ],
      "execution_count": null,
      "outputs": [
        {
          "output_type": "stream",
          "text": [
            "Epoch 1/5\n",
            "602/602 [==============================] - 28s 44ms/step - loss: 0.8140 - accuracy: 0.6278\n",
            "Epoch 2/5\n",
            "602/602 [==============================] - 26s 44ms/step - loss: 0.5136 - accuracy: 0.7978\n",
            "Epoch 3/5\n",
            "602/602 [==============================] - 27s 45ms/step - loss: 0.3321 - accuracy: 0.8782\n",
            "Epoch 4/5\n",
            "602/602 [==============================] - 27s 44ms/step - loss: 0.2240 - accuracy: 0.9212\n",
            "Epoch 5/5\n",
            "602/602 [==============================] - 26s 43ms/step - loss: 0.1584 - accuracy: 0.9455\n"
          ],
          "name": "stdout"
        },
        {
          "output_type": "execute_result",
          "data": {
            "text/plain": [
              "<tensorflow.python.keras.callbacks.History at 0x7fbfa5b9e150>"
            ]
          },
          "metadata": {
            "tags": []
          },
          "execution_count": 47
        }
      ]
    },
    {
      "cell_type": "code",
      "metadata": {
        "colab": {
          "base_uri": "https://localhost:8080/",
          "height": 684
        },
        "id": "yicZdeLp5KCg",
        "outputId": "4ca0a3db-434c-4935-a0b0-aedd011af3cf"
      },
      "source": [
        "tw_preds = model.predict(tw_X_test).argmax(axis=1)\n",
        "cm = confusion_matrix(tw_y_test, tw_preds)\n",
        "print(classification_report(tw_y_test, tw_preds))\n",
        "ConfusionMatrixDisplay(cm, display_labels=[0,1,2]).plot()"
      ],
      "execution_count": null,
      "outputs": [
        {
          "output_type": "stream",
          "text": [
            "              precision    recall  f1-score   support\n",
            "\n",
            "           0       0.71      0.62      0.66      2295\n",
            "           1       0.66      0.66      0.66      3353\n",
            "           2       0.71      0.79      0.75      2596\n",
            "\n",
            "    accuracy                           0.69      8244\n",
            "   macro avg       0.69      0.69      0.69      8244\n",
            "weighted avg       0.69      0.69      0.69      8244\n",
            "\n"
          ],
          "name": "stdout"
        },
        {
          "output_type": "execute_result",
          "data": {
            "text/plain": [
              "<sklearn.metrics._plot.confusion_matrix.ConfusionMatrixDisplay at 0x7fbfa4b31810>"
            ]
          },
          "metadata": {
            "tags": []
          },
          "execution_count": 50
        },
        {
          "output_type": "display_data",
          "data": {
            "image/png": "[encoded data removed]",
            "text/plain": [
              "<Figure size 1152x576 with 2 Axes>"
            ]
          },
          "metadata": {
            "tags": [],
            "needs_background": "light"
          }
        }
      ]
    },
    {
      "cell_type": "code",
      "metadata": {
        "id": "pltXpnun66tv"
      },
      "source": [
        ""
      ],
      "execution_count": null,
      "outputs": []
    }
  ]
}